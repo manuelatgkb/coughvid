{
 "cells": [
  {
   "cell_type": "code",
   "execution_count": null,
   "id": "6e18493d",
   "metadata": {},
   "outputs": [],
   "source": [
    "import numpy as np\n",
    "import matplotlib.pyplot as plt\n",
    "import pandas as pd\n",
    "import seaborn as sns\n",
    "%load_ext autoreload\n",
    "%autoreload 2\n",
    "from google.cloud import storage\n",
    "import io\n",
    "import librosa\n",
    "import os\n",
    "import sys\n",
    "sys.path.append(os.path.abspath('../coughvid'))\n",
    "from segmentation import segment_cough, compute_SNR\n",
    "from scipy.io import wavfile\n",
    "from IPython.display import Audio\n",
    "sys.path.append(os.path.abspath('../coughvid'))\n",
    "from feature_class import features\n",
    "from DSP import classify_cough\n",
    "import pickle\n",
    "import librosa.display"
   ]
  },
  {
   "cell_type": "markdown",
   "id": "66251a4c",
   "metadata": {
    "heading_collapsed": true
   },
   "source": [
    "# First Analysis"
   ]
  },
  {
   "cell_type": "code",
   "execution_count": null,
   "id": "7f6e83ae",
   "metadata": {
    "hidden": true,
    "scrolled": true,
    "slideshow": {
     "slide_type": "slide"
    }
   },
   "outputs": [],
   "source": [
    "df = pd.read_csv(\"../raw_data/metadata_compiled.csv\",delimiter=',')\n",
    "df.head()"
   ]
  },
  {
   "cell_type": "code",
   "execution_count": null,
   "id": "b92bfa22",
   "metadata": {
    "hidden": true,
    "scrolled": true,
    "slideshow": {
     "slide_type": "-"
    }
   },
   "outputs": [],
   "source": [
    "df['status'].value_counts()"
   ]
  },
  {
   "cell_type": "code",
   "execution_count": null,
   "id": "17e83d95",
   "metadata": {
    "hidden": true
   },
   "outputs": [],
   "source": [
    "df['gender'].value_counts()"
   ]
  },
  {
   "cell_type": "code",
   "execution_count": null,
   "id": "6ee23350",
   "metadata": {
    "hidden": true
   },
   "outputs": [],
   "source": [
    "df.shape"
   ]
  },
  {
   "cell_type": "code",
   "execution_count": null,
   "id": "255b0f1d",
   "metadata": {
    "hidden": true,
    "scrolled": true
   },
   "outputs": [],
   "source": [
    "df.info()"
   ]
  },
  {
   "cell_type": "code",
   "execution_count": null,
   "id": "6b239e15",
   "metadata": {
    "hidden": true
   },
   "outputs": [],
   "source": [
    "df.columns"
   ]
  },
  {
   "cell_type": "code",
   "execution_count": null,
   "id": "7e0051c1",
   "metadata": {
    "hidden": true
   },
   "outputs": [],
   "source": [
    "fill = df[['cough_detected','quality_1','cough_type_1', 'dyspnea_1', 'wheezing_1', 'stridor_1',\n",
    "       'choking_1', 'congestion_1', 'nothing_1', 'diagnosis_1', 'severity_1']]"
   ]
  },
  {
   "cell_type": "code",
   "execution_count": null,
   "id": "67630ed1",
   "metadata": {
    "hidden": true
   },
   "outputs": [],
   "source": [
    "fill['quality_1'].unique()"
   ]
  },
  {
   "cell_type": "code",
   "execution_count": null,
   "id": "89926a12",
   "metadata": {
    "hidden": true
   },
   "outputs": [],
   "source": [
    "df['quality_1'].value_counts()"
   ]
  },
  {
   "cell_type": "code",
   "execution_count": null,
   "id": "8bf857b0",
   "metadata": {
    "hidden": true
   },
   "outputs": [],
   "source": [
    "df['cough_type_1'].value_counts()"
   ]
  },
  {
   "cell_type": "code",
   "execution_count": null,
   "id": "f788b4a9",
   "metadata": {
    "hidden": true
   },
   "outputs": [],
   "source": [
    "df['dyspnea_1'].value_counts()"
   ]
  },
  {
   "cell_type": "markdown",
   "id": "b670b950",
   "metadata": {
    "heading_collapsed": true
   },
   "source": [
    "# Specific Investigation"
   ]
  },
  {
   "cell_type": "markdown",
   "id": "6a3f312f",
   "metadata": {
    "heading_collapsed": true,
    "hidden": true
   },
   "source": [
    "## Considering only audios which have a status"
   ]
  },
  {
   "cell_type": "code",
   "execution_count": null,
   "id": "53f8b0e3",
   "metadata": {
    "hidden": true
   },
   "outputs": [],
   "source": [
    "new_df = df[df['status'].notnull()].copy()\n",
    "new_df\n"
   ]
  },
  {
   "cell_type": "markdown",
   "id": "2b7ad628",
   "metadata": {
    "heading_collapsed": true,
    "hidden": true
   },
   "source": [
    "## Disconsidering the specialists features at first"
   ]
  },
  {
   "cell_type": "code",
   "execution_count": null,
   "id": "729880bf",
   "metadata": {
    "hidden": true
   },
   "outputs": [],
   "source": [
    "new_df.columns"
   ]
  },
  {
   "cell_type": "code",
   "execution_count": null,
   "id": "df9b5b66",
   "metadata": {
    "hidden": true
   },
   "outputs": [],
   "source": [
    "new_df = new_df[['uuid', 'datetime', 'cough_detected', 'SNR', 'latitude', 'longitude',\n",
    "       'age', 'gender', 'respiratory_condition', 'fever_muscle_pain', 'status']].copy()\n",
    "new_df"
   ]
  },
  {
   "cell_type": "markdown",
   "id": "3634b5f3",
   "metadata": {
    "heading_collapsed": true,
    "hidden": true
   },
   "source": [
    "## Evaluating status"
   ]
  },
  {
   "cell_type": "code",
   "execution_count": null,
   "id": "54283144",
   "metadata": {
    "hidden": true
   },
   "outputs": [],
   "source": [
    "new_df['status'].value_counts()/new_df['status'].count()"
   ]
  },
  {
   "cell_type": "code",
   "execution_count": null,
   "id": "0c6f7c50",
   "metadata": {
    "hidden": true
   },
   "outputs": [],
   "source": [
    "new_df['status'].value_counts()"
   ]
  },
  {
   "cell_type": "code",
   "execution_count": null,
   "id": "3aff203f",
   "metadata": {
    "hidden": true
   },
   "outputs": [],
   "source": [
    "1155+12479"
   ]
  },
  {
   "cell_type": "markdown",
   "id": "1cb74e77",
   "metadata": {
    "heading_collapsed": true,
    "hidden": true
   },
   "source": [
    "## Removing Symptomatics"
   ]
  },
  {
   "cell_type": "code",
   "execution_count": null,
   "id": "f2cbab1f",
   "metadata": {
    "hidden": true
   },
   "outputs": [],
   "source": [
    "new_df"
   ]
  },
  {
   "cell_type": "code",
   "execution_count": null,
   "id": "37483c2f",
   "metadata": {
    "hidden": true
   },
   "outputs": [],
   "source": [
    "new_df = new_df[new_df['status'] != 'symptomatic'].copy()"
   ]
  },
  {
   "cell_type": "code",
   "execution_count": null,
   "id": "b87a099c",
   "metadata": {
    "hidden": true
   },
   "outputs": [],
   "source": [
    "new_df['status'].value_counts()"
   ]
  },
  {
   "cell_type": "markdown",
   "id": "4b58dd5c",
   "metadata": {
    "heading_collapsed": true,
    "hidden": true
   },
   "source": [
    "## LabelEncoding features"
   ]
  },
  {
   "cell_type": "code",
   "execution_count": null,
   "id": "cc823108",
   "metadata": {
    "hidden": true
   },
   "outputs": [],
   "source": [
    "from sklearn.preprocessing import LabelEncoder\n",
    "from sklearn.preprocessing import OneHotEncoder"
   ]
  },
  {
   "cell_type": "code",
   "execution_count": null,
   "id": "b54b6b3a",
   "metadata": {
    "hidden": true
   },
   "outputs": [],
   "source": [
    "new_df.columns"
   ]
  },
  {
   "cell_type": "code",
   "execution_count": null,
   "id": "ec1daaa8",
   "metadata": {
    "hidden": true
   },
   "outputs": [],
   "source": [
    "new_df['respiratory_condition'] = LabelEncoder().fit_transform(new_df['respiratory_condition'])\n",
    "new_df['fever_muscle_pain'] = LabelEncoder().fit_transform(new_df['fever_muscle_pain'])\n",
    "new_df['status'] = new_df['status'].map({'healthy': 0, 'COVID-19': 1})"
   ]
  },
  {
   "cell_type": "markdown",
   "id": "3239bdbe",
   "metadata": {
    "hidden": true
   },
   "source": [
    "Respiratory Condition and Fever Muscle Pain: 0 - False, 1 - True\n",
    "\n",
    "Status: 0 - Healthy, 1 - COVID"
   ]
  },
  {
   "cell_type": "code",
   "execution_count": null,
   "id": "c245c1ec",
   "metadata": {
    "hidden": true
   },
   "outputs": [],
   "source": [
    "new_df.isnull().sum()"
   ]
  },
  {
   "cell_type": "code",
   "execution_count": null,
   "id": "f9cfcf4a",
   "metadata": {
    "hidden": true
   },
   "outputs": [],
   "source": [
    "new_df.isnull().sum() / new_df.count()"
   ]
  },
  {
   "cell_type": "code",
   "execution_count": null,
   "id": "cd5b3ad1",
   "metadata": {
    "hidden": true
   },
   "outputs": [],
   "source": [
    "new_df.describe()"
   ]
  },
  {
   "cell_type": "markdown",
   "id": "f0281a2d",
   "metadata": {
    "heading_collapsed": true,
    "hidden": true
   },
   "source": [
    "## Imputing Age Mean"
   ]
  },
  {
   "cell_type": "code",
   "execution_count": null,
   "id": "82e71068",
   "metadata": {
    "hidden": true
   },
   "outputs": [],
   "source": [
    "from sklearn.impute import SimpleImputer"
   ]
  },
  {
   "cell_type": "code",
   "execution_count": null,
   "id": "b3b8a34a",
   "metadata": {
    "hidden": true
   },
   "outputs": [],
   "source": [
    "imputer = SimpleImputer(strategy=\"mean\")\n",
    "imputer.fit(new_df[['age']])\n",
    "new_df['age'] = imputer.transform(new_df[['age']])"
   ]
  },
  {
   "cell_type": "code",
   "execution_count": null,
   "id": "feaf2dc2",
   "metadata": {
    "hidden": true,
    "scrolled": false
   },
   "outputs": [],
   "source": [
    "new_df"
   ]
  },
  {
   "cell_type": "markdown",
   "id": "d0415a1a",
   "metadata": {
    "heading_collapsed": true,
    "hidden": true
   },
   "source": [
    "## Defining Target and Features"
   ]
  },
  {
   "cell_type": "code",
   "execution_count": null,
   "id": "9a1a300c",
   "metadata": {
    "hidden": true,
    "scrolled": false
   },
   "outputs": [],
   "source": [
    "X = new_df.drop(columns=['uuid', 'datetime','SNR', 'latitude', 'longitude','gender','status'])\n",
    "y = new_df['status']\n",
    "X"
   ]
  },
  {
   "cell_type": "code",
   "execution_count": null,
   "id": "ee5f0e2e",
   "metadata": {
    "hidden": true
   },
   "outputs": [],
   "source": [
    "X.describe()"
   ]
  },
  {
   "cell_type": "markdown",
   "id": "5b21820e",
   "metadata": {
    "heading_collapsed": true,
    "hidden": true
   },
   "source": [
    "## Model Evaluation"
   ]
  },
  {
   "cell_type": "code",
   "execution_count": null,
   "id": "aab56530",
   "metadata": {
    "hidden": true
   },
   "outputs": [],
   "source": [
    "import statsmodels.formula.api as smf"
   ]
  },
  {
   "cell_type": "code",
   "execution_count": null,
   "id": "caae778a",
   "metadata": {
    "hidden": true
   },
   "outputs": [],
   "source": [
    "new_df"
   ]
  },
  {
   "cell_type": "code",
   "execution_count": null,
   "id": "cdb58bdb",
   "metadata": {
    "hidden": true
   },
   "outputs": [],
   "source": [
    "model = smf.logit(formula='status ~ cough_detected + age + C(gender) + respiratory_condition + fever_muscle_pain - 1', data=new_df).fit()\n",
    "model.summary()"
   ]
  },
  {
   "cell_type": "markdown",
   "id": "7abe5656",
   "metadata": {
    "heading_collapsed": true
   },
   "source": [
    "# Cough Detection Threshold"
   ]
  },
  {
   "cell_type": "code",
   "execution_count": null,
   "id": "6fafa2dc",
   "metadata": {
    "hidden": true
   },
   "outputs": [],
   "source": [
    "new_df = new_df[new_df['cough_detected']>0.6].copy()\n",
    "new_df"
   ]
  },
  {
   "cell_type": "code",
   "execution_count": null,
   "id": "c4713016",
   "metadata": {
    "hidden": true
   },
   "outputs": [],
   "source": [
    "new_df.shape[0]"
   ]
  },
  {
   "cell_type": "code",
   "execution_count": null,
   "id": "fc746343",
   "metadata": {
    "hidden": true
   },
   "outputs": [],
   "source": [
    "threshold = 0.6"
   ]
  },
  {
   "cell_type": "code",
   "execution_count": null,
   "id": "4ddb788c",
   "metadata": {
    "hidden": true,
    "scrolled": false
   },
   "outputs": [],
   "source": [
    "new_df[new_df['cough_detected'] > threshold].shape[0]"
   ]
  },
  {
   "cell_type": "markdown",
   "id": "5325cb06",
   "metadata": {
    "heading_collapsed": true
   },
   "source": [
    "# Cough Detection Model"
   ]
  },
  {
   "cell_type": "code",
   "execution_count": null,
   "id": "be37bfc5",
   "metadata": {
    "hidden": true
   },
   "outputs": [],
   "source": [
    "data_folder = '../sample_recordings'\n",
    "loaded_model = pickle.load(open(os.path.join('../models', 'cough_classifier'), 'rb'))\n",
    "loaded_scaler = pickle.load(open(os.path.join('../models','cough_classification_scaler'), 'rb'))"
   ]
  },
  {
   "cell_type": "code",
   "execution_count": null,
   "id": "9797d6f4",
   "metadata": {
    "hidden": true
   },
   "outputs": [],
   "source": [
    "filename = 'cough.wav'\n",
    "x, fs = librosa.load(data_folder+'/'+filename, sr=None)\n",
    "probability = classify_cough(x, fs, loaded_model, loaded_scaler)\n",
    "print(\"The file {0} has a {1}\\% probability of being a cough\".format(filename,round(probability*100,2)))"
   ]
  },
  {
   "cell_type": "code",
   "execution_count": null,
   "id": "ddbcf79a",
   "metadata": {
    "hidden": true
   },
   "outputs": [],
   "source": [
    "filename = 'not_cough.wav'\n",
    "x, fs = librosa.load(data_folder+'/'+filename, sr=None)\n",
    "probability = classify_cough(x, fs, loaded_model, loaded_scaler)\n",
    "print(\"The file {0} has a {1}\\% probability of being a cough\".format(filename,round(probability*100,2)))"
   ]
  },
  {
   "cell_type": "code",
   "execution_count": null,
   "id": "4656940e",
   "metadata": {
    "hidden": true,
    "scrolled": true
   },
   "outputs": [],
   "source": [
    "client = storage.Client()\n",
    "bucket = client.get_bucket('coughvid-650')\n",
    "blob = bucket.get_blob('data/00039425-7f3a-42aa-ac13-834aaa2b6b92.wav')\n",
    "audio,rate = librosa.load(io.BytesIO(blob.download_as_string()), sr=None)\n",
    "probability = classify_cough(audio, rate, loaded_model, loaded_scaler)\n",
    "print(\"The file {0} has a {1}\\% probability of being a cough\".format(filename,round(probability*100,2)))"
   ]
  },
  {
   "cell_type": "code",
   "execution_count": null,
   "id": "1a074f5c",
   "metadata": {
    "hidden": true
   },
   "outputs": [],
   "source": [
    "Audio(audio, rate=rate)"
   ]
  },
  {
   "cell_type": "code",
   "execution_count": null,
   "id": "daa9bd3b",
   "metadata": {
    "hidden": true
   },
   "outputs": [],
   "source": [
    "rate"
   ]
  },
  {
   "cell_type": "code",
   "execution_count": null,
   "id": "849321e2",
   "metadata": {
    "hidden": true
   },
   "outputs": [],
   "source": [
    "df"
   ]
  },
  {
   "cell_type": "markdown",
   "id": "00c32ef1",
   "metadata": {
    "heading_collapsed": true
   },
   "source": [
    "# SNR Calculator"
   ]
  },
  {
   "cell_type": "code",
   "execution_count": null,
   "id": "c75e433c",
   "metadata": {
    "hidden": true
   },
   "outputs": [],
   "source": [
    "client = storage.Client()\n",
    "\n",
    "bucket = client.get_bucket('coughvid-650')\n",
    "\n",
    "blob = bucket.get_blob('data/fff3ff61-2387-4139-938b-539db01e6be5.wav')"
   ]
  },
  {
   "cell_type": "code",
   "execution_count": null,
   "id": "d2f49827",
   "metadata": {
    "hidden": true
   },
   "outputs": [],
   "source": [
    "audio,rate = librosa.load(io.BytesIO(blob.download_as_string()), sr=None)"
   ]
  },
  {
   "cell_type": "code",
   "execution_count": null,
   "id": "ed305f85",
   "metadata": {
    "hidden": true
   },
   "outputs": [],
   "source": [
    "snr = compute_SNR(audio,rate)\n",
    "print(\"The SNR of the cough signal is {0}\".format(snr))"
   ]
  },
  {
   "cell_type": "code",
   "execution_count": null,
   "id": "78e8fbb9",
   "metadata": {
    "hidden": true,
    "scrolled": false
   },
   "outputs": [],
   "source": [
    "df"
   ]
  },
  {
   "cell_type": "code",
   "execution_count": null,
   "id": "c78fdecc",
   "metadata": {
    "hidden": true
   },
   "outputs": [],
   "source": [
    "df.describe()"
   ]
  },
  {
   "cell_type": "code",
   "execution_count": null,
   "id": "71021f20",
   "metadata": {
    "hidden": true,
    "scrolled": true
   },
   "outputs": [],
   "source": [
    "Audio(audio, rate=rate)"
   ]
  },
  {
   "cell_type": "markdown",
   "id": "fd9c3ff5",
   "metadata": {},
   "source": [
    "# Mel Spectrogram"
   ]
  },
  {
   "cell_type": "code",
   "execution_count": null,
   "id": "e67f75ce",
   "metadata": {},
   "outputs": [],
   "source": [
    "client = storage.Client()\n",
    "bucket = client.get_bucket('coughvid-650')\n",
    "blob = bucket.get_blob('data/00039425-7f3a-42aa-ac13-834aaa2b6b92.wav')\n",
    "audio,rate = librosa.load(io.BytesIO(blob.download_as_string()), sr=None)"
   ]
  },
  {
   "cell_type": "code",
   "execution_count": null,
   "id": "1d20b1eb",
   "metadata": {},
   "outputs": [],
   "source": [
    "Audio(audio, rate=rate)"
   ]
  },
  {
   "cell_type": "code",
   "execution_count": null,
   "id": "af9db6f2",
   "metadata": {},
   "outputs": [],
   "source": [
    "librosa.feature.melspectrogram(y = audio, sr = rate)"
   ]
  },
  {
   "cell_type": "code",
   "execution_count": null,
   "id": "ad23f89a",
   "metadata": {},
   "outputs": [],
   "source": [
    "librosa.feature.melspectrogram(y = audio, sr = rate).shape"
   ]
  },
  {
   "cell_type": "code",
   "execution_count": null,
   "id": "c12ca852",
   "metadata": {},
   "outputs": [],
   "source": [
    "S = librosa.feature.melspectrogram(y = audio, sr = rate, n_mels=128, fmax=8000)"
   ]
  },
  {
   "cell_type": "code",
   "execution_count": null,
   "id": "48e6c36b",
   "metadata": {},
   "outputs": [],
   "source": [
    "fig, ax = plt.subplots()\n",
    "S_dB = librosa.power_to_db(S, ref=np.max)\n",
    "img = librosa.display.specshow(S_dB, x_axis='time', y_axis='mel', sr=rate, fmax=8000, ax=ax)\n",
    "fig.colorbar(img, ax=ax, format='%+2.0f dB')\n",
    "ax.set(title='Mel-frequency spectrogram')"
   ]
  },
  {
   "cell_type": "code",
   "execution_count": null,
   "id": "84180b90",
   "metadata": {},
   "outputs": [],
   "source": [
    "client = storage.Client()\n",
    "bucket = client.get_bucket('coughvid-650')\n",
    "blob = bucket.get_blob('data/0009eb28-d8be-4dc1-92bb-907e53bc5c7a.wav')\n",
    "audio,rate = librosa.load(io.BytesIO(blob.download_as_string()), sr=None)"
   ]
  },
  {
   "cell_type": "code",
   "execution_count": null,
   "id": "16eff4d0",
   "metadata": {},
   "outputs": [],
   "source": [
    "librosa.feature.melspectrogram(y = audio, sr = rate)"
   ]
  },
  {
   "cell_type": "code",
   "execution_count": null,
   "id": "0b1ee5f2",
   "metadata": {},
   "outputs": [],
   "source": [
    "librosa.feature.melspectrogram(y = audio, sr = rate).shape"
   ]
  },
  {
   "cell_type": "code",
   "execution_count": null,
   "id": "37be93ac",
   "metadata": {},
   "outputs": [],
   "source": [
    "Audio(audio, rate=rate)"
   ]
  },
  {
   "cell_type": "code",
   "execution_count": null,
   "id": "062f8868",
   "metadata": {
    "scrolled": true
   },
   "outputs": [],
   "source": [
    "S = librosa.feature.melspectrogram(y = audio, sr = rate, n_mels=128, fmax=8000)\n",
    "fig, ax = plt.subplots()\n",
    "S_dB = librosa.power_to_db(S, ref=np.max)\n",
    "img = librosa.display.specshow(S_dB, x_axis='time', y_axis='mel', sr=rate, fmax=8000, ax=ax)\n",
    "fig.colorbar(img, ax=ax, format='%+2.0f dB')\n",
    "ax.set(title='Mel-frequency spectrogram')"
   ]
  },
  {
   "cell_type": "markdown",
   "id": "7a7cff39",
   "metadata": {},
   "source": [
    "# Image Model"
   ]
  },
  {
   "cell_type": "code",
   "execution_count": null,
   "id": "3fd85382",
   "metadata": {},
   "outputs": [],
   "source": [
    "from tensorflow.keras.preprocessing.image import ImageDataGenerator\n",
    "import tensorflow as tf\n",
    "from sklearn.metrics import confusion_matrix\n",
    "import seaborn as sns\n",
    "from keras.preprocessing import image\n",
    "from tensorflow.keras.models import load_model"
   ]
  },
  {
   "cell_type": "markdown",
   "id": "6992b53a",
   "metadata": {},
   "source": [
    "# Try"
   ]
  },
  {
   "cell_type": "code",
   "execution_count": null,
   "id": "9941bb2f",
   "metadata": {},
   "outputs": [],
   "source": [
    "new_df.shape"
   ]
  },
  {
   "cell_type": "code",
   "execution_count": null,
   "id": "54bfea7b",
   "metadata": {
    "scrolled": false
   },
   "outputs": [],
   "source": [
    "new_df[new_df.index==16330]"
   ]
  },
  {
   "cell_type": "code",
   "execution_count": null,
   "id": "746a260c",
   "metadata": {},
   "outputs": [],
   "source": [
    "df[df.index==11501].status"
   ]
  },
  {
   "cell_type": "code",
   "execution_count": null,
   "id": "06ce563b",
   "metadata": {},
   "outputs": [],
   "source": [
    "df.status.value_counts()"
   ]
  },
  {
   "cell_type": "code",
   "execution_count": null,
   "id": "32d9d61f",
   "metadata": {},
   "outputs": [],
   "source": [
    "new_df"
   ]
  },
  {
   "cell_type": "code",
   "execution_count": null,
   "id": "1d11a220",
   "metadata": {},
   "outputs": [],
   "source": [
    "# for i in range(len(audios_test)):\n",
    "#     S = librosa.feature.melspectrogram(y = audios_test[i], sr = rates_test[i], n_mels=128, fmax=8000)\n",
    "#     fig, ax = plt.subplots()\n",
    "#     S_dB = librosa.power_to_db(S, ref=np.max)\n",
    "#     img = librosa.display.specshow(S_dB, sr=rates_test[i], fmax=8000, ax=ax)\n",
    "    \n",
    "#     if new_df[new_df.index==index_test[i]].status.values[0] == 1:\n",
    "#         plt.savefig('./test/2-COVID/' + f'test{i}.png')\n",
    "#     else:\n",
    "#         plt.savefig('./test/1-Healthy/' + f'test{i}.png')"
   ]
  },
  {
   "cell_type": "code",
   "execution_count": null,
   "id": "cbc3634e",
   "metadata": {},
   "outputs": [],
   "source": [
    "path_dir = './test2/'"
   ]
  },
  {
   "cell_type": "code",
   "execution_count": null,
   "id": "517dd688",
   "metadata": {
    "scrolled": true
   },
   "outputs": [],
   "source": [
    "datagen = ImageDataGenerator(\n",
    "                    rescale=1./255,\n",
    "                    validation_split = 0.2)\n",
    "train_generator = datagen.flow_from_directory(\n",
    "    path_dir,\n",
    "    target_size=(288, 432,4),\n",
    "    shuffle=True,\n",
    "    subset='training'\n",
    ")\n",
    "validation_generator = datagen.flow_from_directory(\n",
    "    path_dir,\n",
    "    target_size=(288, 432,4),\n",
    "    subset='validation'\n",
    ")"
   ]
  },
  {
   "cell_type": "code",
   "execution_count": null,
   "id": "f0c69085",
   "metadata": {},
   "outputs": [],
   "source": [
    "pd.DataFrame(train_generator.labels).value_counts()"
   ]
  },
  {
   "cell_type": "code",
   "execution_count": null,
   "id": "d640d874",
   "metadata": {},
   "outputs": [],
   "source": [
    "pd.DataFrame(validation_generator.labels).value_counts()"
   ]
  },
  {
   "cell_type": "code",
   "execution_count": null,
   "id": "c917e287",
   "metadata": {
    "scrolled": true
   },
   "outputs": [],
   "source": [
    "validation_generator.image_shape"
   ]
  },
  {
   "cell_type": "code",
   "execution_count": null,
   "id": "3baf97f6",
   "metadata": {},
   "outputs": [],
   "source": [
    "model = tf.keras.models.Sequential([\n",
    "    #first_convolution\n",
    "    tf.keras.layers.Conv2D(16, (3,3), activation='relu', input_shape=(288, 432, 3)),\n",
    "    tf.keras.layers.MaxPooling2D(2, 2),\n",
    "    #second_convolution\n",
    "    tf.keras.layers.Conv2D(32, (3,3), activation='relu'),\n",
    "    tf.keras.layers.MaxPooling2D(2,2),\n",
    "    #third_convolution\n",
    "    tf.keras.layers.Conv2D(64, (3,3), activation='relu'),\n",
    "    tf.keras.layers.MaxPooling2D(2,2),\n",
    "    #fourth_convolution\n",
    "    tf.keras.layers.Conv2D(64, (3,3), activation='relu'),\n",
    "    tf.keras.layers.MaxPooling2D(2,2),\n",
    "    tf.keras.layers.Flatten(),\n",
    "    tf.keras.layers.Dropout(0.5),\n",
    "    tf.keras.layers.Dense(256, activation='relu'),\n",
    "    tf.keras.layers.Dense(2, activation='softmax') \n",
    "])"
   ]
  },
  {
   "cell_type": "code",
   "execution_count": null,
   "id": "53b5d217",
   "metadata": {},
   "outputs": [],
   "source": [
    "model.compile(loss='categorical_crossentropy', optimizer='adam', metrics = tf.keras.metrics.Recall())\n",
    "model.fit(train_generator, batch_size=32,epochs=50)"
   ]
  },
  {
   "cell_type": "code",
   "execution_count": null,
   "id": "fb11d6cf",
   "metadata": {},
   "outputs": [],
   "source": [
    "accuracy = model.evaluate(validation_generator)\n",
    "print('n', 'Test_Accuracy:-', accuracy[1])\n",
    "pred = model.predict(validation_generator)\n",
    "y_pred = np.argmax(pred, axis=1)\n",
    "y_true = validation_generator.labels\n",
    "print('confusion matrix')\n",
    "print(confusion_matrix(y_true, y_pred))\n",
    "    #confusion matrix\n",
    "f, ax = plt.subplots(figsize=(8,5))\n",
    "sns.heatmap(confusion_matrix(y_true, y_pred), annot=True, fmt=\".0f\", ax=ax)\n",
    "plt.xlabel(\"y_pred\")\n",
    "plt.ylabel(\"y_true\")\n",
    "plt.show()"
   ]
  },
  {
   "cell_type": "code",
   "execution_count": null,
   "id": "7a5a984f",
   "metadata": {},
   "outputs": [],
   "source": [
    "import joblib\n",
    "joblib.dump(model, 'model.joblib')"
   ]
  },
  {
   "cell_type": "code",
   "execution_count": null,
   "id": "b6f5a06b",
   "metadata": {},
   "outputs": [],
   "source": [
    "new_df.shape"
   ]
  },
  {
   "cell_type": "code",
   "execution_count": null,
   "id": "772de89f",
   "metadata": {},
   "outputs": [],
   "source": [
    "def get_all_audios(df, start = 0, finish = 10):\n",
    "\n",
    "    client = storage.Client()\n",
    "\n",
    "    bucket = client.get_bucket('coughvid-650')\n",
    "    \n",
    "    files = df.uuid.iloc[start:finish]\n",
    "    \n",
    "    rates = []\n",
    "    \n",
    "    audios = []\n",
    "    \n",
    "    print(\"Good luck!\")\n",
    "    \n",
    "    j=0\n",
    "    for i in files:\n",
    "    \n",
    "        blob = bucket.get_blob('data/' + f'{i}' + '.wav')\n",
    "        \n",
    "        print('getting ' + f'{j} - {i}' + '.wav' + '...')\n",
    "        \n",
    "        audio, rate = librosa.load(io.BytesIO(blob.download_as_string()), sr=None)\n",
    "        \n",
    "        rates.append(rate)\n",
    "        \n",
    "        audios.append(audio)\n",
    "        j += 1\n",
    "    print(\"Done!\")\n",
    "    \n",
    "    return rates, audios, files.index.values"
   ]
  },
  {
   "cell_type": "code",
   "execution_count": null,
   "id": "6c72dfb1",
   "metadata": {},
   "outputs": [],
   "source": [
    "def audios_to_images(df, audios, rates, index, sub_folders = ['COVID', 'Healthy']):\n",
    "    import os\n",
    "    for folder in range(len(sub_folders)):\n",
    "        if os.path.isdir(f'{sub_folders[folder]}'):\n",
    "            continue\n",
    "        else:\n",
    "            os.mkdir(f'{sub_folders[folder]}')\n",
    "    j=0\n",
    "    for i in range(len(audios)):\n",
    "        S = librosa.feature.melspectrogram(y = audios[i], sr = rates[i], n_mels=128, fmax=8000)\n",
    "        fig, ax = plt.subplots()\n",
    "        S_dB = librosa.power_to_db(S, ref=np.max)\n",
    "        img = librosa.display.specshow(S_dB, sr=rates[i], fmax=8000, ax=ax)\n",
    "        \n",
    "        print(f'Fetching {j}')\n",
    "        j += 1\n",
    "        if df[df.index==index[i]].status.values[0] == 1:\n",
    "            plt.savefig(f'./{sub_folders[0]}/' + f'{df.uuid[df.index==index[i]].values[0]}.png')\n",
    "        else:\n",
    "            plt.savefig(f'./{sub_folders[1]}/' + f'{df.uuid[df.index==index[i]].values[0]}.png')\n",
    "        plt.close()\n",
    "    return print('Done!')\n"
   ]
  },
  {
   "cell_type": "code",
   "execution_count": null,
   "id": "96d0ec30",
   "metadata": {},
   "outputs": [],
   "source": [
    "# rate_info, audio_info, index_info = get_all_audios(new_df,3142,5191)"
   ]
  },
  {
   "cell_type": "code",
   "execution_count": null,
   "id": "6e5d40ad",
   "metadata": {},
   "outputs": [],
   "source": [
    "# audios_to_images(new_df,audio_info,rate_info,index_info)"
   ]
  },
  {
   "cell_type": "code",
   "execution_count": 6,
   "id": "59d781fe",
   "metadata": {},
   "outputs": [
    {
     "data": {
      "text/plain": [
       "(10191, 288, 432, 4)"
      ]
     },
     "execution_count": 6,
     "metadata": {},
     "output_type": "execute_result"
    }
   ],
   "source": [
    "# load numpy array from npy file\n",
    "from numpy import load\n",
    "# load array\n",
    "X = load('data.npy')\n",
    "X.shape"
   ]
  },
  {
   "cell_type": "code",
   "execution_count": 5,
   "id": "b02ff677",
   "metadata": {},
   "outputs": [
    {
     "data": {
      "text/plain": [
       "(10191,)"
      ]
     },
     "execution_count": 5,
     "metadata": {},
     "output_type": "execute_result"
    }
   ],
   "source": [
    "# load numpy array from npy file\n",
    "from numpy import load\n",
    "# load array\n",
    "y = load('target.npy')\n",
    "y.shape"
   ]
  },
  {
   "cell_type": "code",
   "execution_count": 7,
   "id": "9fa34921",
   "metadata": {},
   "outputs": [],
   "source": [
    "from sklearn.model_selection import train_test_split\n",
    "X_train, X_test, y_train, y_test = train_test_split(X, y, test_size=0.3)"
   ]
  },
  {
   "cell_type": "code",
   "execution_count": 8,
   "id": "a9128896",
   "metadata": {},
   "outputs": [
    {
     "data": {
      "text/plain": [
       "(7133, 288, 432, 4)"
      ]
     },
     "execution_count": 8,
     "metadata": {},
     "output_type": "execute_result"
    }
   ],
   "source": [
    "X_train.shape"
   ]
  },
  {
   "cell_type": "code",
   "execution_count": 9,
   "id": "34b328c0",
   "metadata": {},
   "outputs": [
    {
     "data": {
      "text/plain": [
       "(3058, 288, 432, 4)"
      ]
     },
     "execution_count": 9,
     "metadata": {},
     "output_type": "execute_result"
    }
   ],
   "source": [
    "X_test.shape"
   ]
  },
  {
   "cell_type": "code",
   "execution_count": 10,
   "id": "2eb82b47",
   "metadata": {},
   "outputs": [
    {
     "name": "stderr",
     "output_type": "stream",
     "text": [
      "2021-08-06 10:52:09.402697: W tensorflow/stream_executor/platform/default/dso_loader.cc:64] Could not load dynamic library 'libcudart.so.11.0'; dlerror: libcudart.so.11.0: cannot open shared object file: No such file or directory\n",
      "2021-08-06 10:52:09.402774: I tensorflow/stream_executor/cuda/cudart_stub.cc:29] Ignore above cudart dlerror if you do not have a GPU set up on your machine.\n"
     ]
    }
   ],
   "source": [
    "import pandas as pd\n",
    "import numpy as np\n",
    "from tensorflow.keras import layers\n",
    "from tensorflow.keras import models\n",
    "from tensorflow.keras import metrics\n",
    "from sklearn.metrics import confusion_matrix"
   ]
  },
  {
   "cell_type": "code",
   "execution_count": null,
   "id": "b83894a8",
   "metadata": {},
   "outputs": [],
   "source": []
  }
 ],
 "metadata": {
  "kernelspec": {
   "display_name": "Python 3 (ipykernel)",
   "language": "python",
   "name": "python3"
  },
  "language_info": {
   "codemirror_mode": {
    "name": "ipython",
    "version": 3
   },
   "file_extension": ".py",
   "mimetype": "text/x-python",
   "name": "python",
   "nbconvert_exporter": "python",
   "pygments_lexer": "ipython3",
   "version": "3.8.6"
  },
  "toc": {
   "base_numbering": 1,
   "nav_menu": {},
   "number_sections": true,
   "sideBar": true,
   "skip_h1_title": false,
   "title_cell": "Table of Contents",
   "title_sidebar": "Contents",
   "toc_cell": false,
   "toc_position": {},
   "toc_section_display": true,
   "toc_window_display": true
  }
 },
 "nbformat": 4,
 "nbformat_minor": 5
}
